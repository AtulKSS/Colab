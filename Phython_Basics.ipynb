{
  "nbformat": 4,
  "nbformat_minor": 0,
  "metadata": {
    "colab": {
      "name": "Phython Basics.ipynb",
      "provenance": [],
      "collapsed_sections": [],
      "authorship_tag": "ABX9TyOzRFUPVAlP2iO7UPx17EkF",
      "include_colab_link": true
    },
    "kernelspec": {
      "name": "python3",
      "display_name": "Python 3"
    },
    "language_info": {
      "name": "python"
    }
  },
  "cells": [
    {
      "cell_type": "markdown",
      "metadata": {
        "id": "view-in-github",
        "colab_type": "text"
      },
      "source": [
        "<a href=\"https://colab.research.google.com/github/AtulKSS/Colab/blob/main/Phython_Basics.ipynb\" target=\"_parent\"><img src=\"https://colab.research.google.com/assets/colab-badge.svg\" alt=\"Open In Colab\"/></a>"
      ]
    },
    {
      "cell_type": "code",
      "metadata": {
        "id": "TTVhAcR1mIf9"
      },
      "source": [
        "print(\"hello world\")"
      ],
      "execution_count": null,
      "outputs": []
    },
    {
      "cell_type": "code",
      "metadata": {
        "id": "Yj6y_8q8mXkI"
      },
      "source": [
        "print('hello world')"
      ],
      "execution_count": null,
      "outputs": []
    },
    {
      "cell_type": "code",
      "metadata": {
        "id": "Jfev6rajma1h"
      },
      "source": [
        "var = print(\"hello world\")\n",
        "print(var) #Returns NONE"
      ],
      "execution_count": null,
      "outputs": []
    },
    {
      "cell_type": "code",
      "metadata": {
        "id": "EvJ1rg6Rmk8Y"
      },
      "source": [
        "var2= 'Hello world'\n",
        "print(var2) #prints a string"
      ],
      "execution_count": null,
      "outputs": []
    },
    {
      "cell_type": "code",
      "metadata": {
        "id": "jzuAOh1Wm3uW"
      },
      "source": [
        "# ()=tuple\n",
        "# {}=dictionary\n",
        "# []=List\n",
        "# > = Greater than\n",
        "# < = Smaller than\n",
        "# : = colan\n",
        "# \"\" = writing statemnet for print or any other\n",
        "# var= 56.7 its a floating point variable \n",
        "# type function = print(type(var))\n"
      ],
      "execution_count": null,
      "outputs": []
    },
    {
      "cell_type": "code",
      "metadata": {
        "id": "yBeg_Wg1nj1E"
      },
      "source": [
        "# typecasting\n",
        "# str()\n",
        "# float()\n",
        "# int()\n",
        "var1 = \"56\"\n",
        "var2 = \"55\"\n",
        "print(int(var1)+ int(var2))\n",
        "# print statement using * function\n",
        "print(10* \"hello\\n\")\n"
      ],
      "execution_count": null,
      "outputs": []
    },
    {
      "cell_type": "code",
      "metadata": {
        "id": "UZYTKZxOp9_C"
      },
      "source": [
        "# String slicing\n",
        "strs= \".ecneics noitamrofni mutnauq dna ,ygolonhcet mutnauq ,yroeht dleif mutnauq ,yrtsimehc mutnauq gnidulcni scisyhp mutnauq lla fo noitadnuof eht si tI  1.1 :]2[.selcitrap cimotabus dna smota fo elacs eht ta erutan fo seitreporp lacisyhp eht fo noitpircsed a sedivorp taht scisyhp ni yroeht latnemadnuf a si scinahcem mutnauQ\"\n",
        "# print(strs[0:5])\n",
        "# print(strs[::2]) #skips 2 characters\n",
        "print(strs[::-1]) #Reverses the string \n",
        "print(strs.count(\"o\")) #Counts Argument in string\n",
        "print(strs.capitalize()) #ccapitalizes first letter for string\n",
        "print(strs.find(\"is\")) #Finds the givien world in imput string\n",
        "print(strs.lower()) #Lower cases the given string\n",
        "print(strs.upper()) #capitalizes every character in string\n",
        "print(str.replace(\"dna\",\"dma\")) #Replaces new string with older\n",
        "# TRUE and FALSE two boolean Characters\n",
        "# Boolean is a datatype"
      ],
      "execution_count": null,
      "outputs": []
    },
    {
      "cell_type": "code",
      "metadata": {
        "id": "knBiqbqWwuEs"
      },
      "source": [
        "#List\n",
        "ls = [\"heelo\",\"fefe\",\"meme\"]\n",
        "print(ls)\n",
        "ls.reverse()\n",
        "ls.sort() #Sort the list\n",
        "print(ls[0:5]) #list slicing\n",
        "print(ls[::2])\n",
        "print(max(ls))\n",
        "print(min(ls))\n",
        "ls.append() #Appends number to list\n",
        "ls.insert(1 , 55) #Inserts new number in list it takes first argument as index and second as number to add\n",
        "ls.remove(\"heelo\")\n",
        "ls.pop()#removeS one element"
      ],
      "execution_count": null,
      "outputs": []
    },
    {
      "cell_type": "code",
      "metadata": {
        "id": "S1dr2cgegrhH"
      },
      "source": [
        "#tuple\n",
        "#Mutable = Can change\n",
        "#Immuatable = cannot change\n",
        "# ()=parenthesis\n",
        "#value of tuple cannot be changed\n",
        "\n",
        "tp= (1,2,3,5)\n",
        "print(tp)"
      ],
      "execution_count": null,
      "outputs": []
    },
    {
      "cell_type": "code",
      "metadata": {
        "id": "ueoLS89riDn8"
      },
      "source": [
        "#Dictionary\n",
        "# Its a key valur pairs\n",
        "d1 = {}\n",
        "print(type(d1))\n",
        "d2={\"aTUL\":\"burger\",\"aasa\":\"asasasa\",\"raju\":{\"b\":\"rararar\",\"L\":\"mama\"}}#Dict in dict\n",
        "# print(d2)\n",
        "d2[\"additem\"]=\"additem\"#Adding new item to our dictionary\n",
        "print(d2)\n",
        "del d2[\"additem\"]#deletes item from dict\n",
        "print(d2)\n",
        "# .get = gets item from List\n",
        "# .update = updates list"
      ],
      "execution_count": null,
      "outputs": []
    },
    {
      "cell_type": "code",
      "metadata": {
        "id": "ENAjkfC-k4zT"
      },
      "source": [
        "#SET\n",
        "# ITS a data structure\n",
        "s = set()\n",
        "s.add()\n",
        "s.add()\n",
        "s.union()\n",
        "s.intersection()\n",
        "s.remove()"
      ],
      "execution_count": null,
      "outputs": []
    },
    {
      "cell_type": "code",
      "metadata": {
        "id": "k-RJcJNelmph"
      },
      "source": [
        "#IF ELSE\n",
        "vs1 = 1\n",
        "vs2 = 6\n",
        "# \">\" = Greater than\n",
        "# \"<\" = Smaller than\n",
        "if vs1>vs2:\n",
        "  print(\"Bigg\")\n",
        "elif vs1==vs2:\n",
        "  print(\"equal\")\n",
        "else:\n",
        "  print(\"Low\")"
      ],
      "execution_count": null,
      "outputs": []
    },
    {
      "cell_type": "code",
      "metadata": {
        "id": "h9H0wbNem9NS"
      },
      "source": [
        "lst = [\"hah\",\"fafa\",\"afsa\"]\n",
        "for i in lst:\n",
        "  print(i)\n",
        "\n",
        "#List of list\n",
        "lst2=[[\"Hello\",2],[\"cat\",2],[\"dog\",6000]]\n",
        "\n",
        "for i , hello in lst2:\n",
        "  print(i,\"and lool,\",hello)\n",
        "#Taking all user names from databasae\n",
        "#we can use if in for loop\n",
        "#we can give @gmail.com or any thing to do with names\n",
        "#we can use two for loops to iterate\n",
        "for i in lst:\n",
        "  for j in i:\n",
        "    print(i)\n",
        "    #for iterating a specific element in list or dict or tuple"
      ],
      "execution_count": null,
      "outputs": []
    },
    {
      "cell_type": "code",
      "metadata": {
        "id": "wDy4_tSFokoz"
      },
      "source": [
        "#While loop\n",
        "#Until Condition is true it will go on forever\n",
        "i =0\n",
        "while(i<45):\n",
        "# print(i) #it will print till eternity\n",
        "  i = i+1\n",
        "  print(i)#Condition satisfies here i goes greater than 45 and loop stops\n",
        "  # break Breaks the while loop\n",
        "\n",
        "\n"
      ],
      "execution_count": null,
      "outputs": []
    },
    {
      "cell_type": "code",
      "metadata": {
        "id": "sWQ8kRPZrebG"
      },
      "source": [
        "i = 0\n",
        "while(True):\n",
        "  if i+1<5:\n",
        "    i = i+1\n",
        "    continue #It will loop here till i is greater than 5 and after it will go down\n",
        "    #from here program will loop untill conditon as condition goes flase loop breaks\n",
        "  print(i+1, end=\",\")\n",
        "  if(i==44):\n",
        "    break\n",
        "  i = i+1\n",
        "\n",
        "  #We can use while loop to take infinte inputs from users\n",
        "  #we can make game from while loop like guess the number or other\n",
        "  #we can make user interface to take inputs from user\n",
        "while(True):\n",
        "  inp=int(input(\"Enter a number\"))\n",
        "  if inp>100:\n",
        "    print(\"congrats you have entered number greater than 100\\n\")\n",
        "    break #if number smaller than 100 loop goes in else and continues to ask input till its greater than 100\n",
        "    \n",
        "  else:\n",
        "    print(\"try again\")\n",
        "    continue\n"
      ],
      "execution_count": null,
      "outputs": []
    },
    {
      "cell_type": "code",
      "metadata": {
        "id": "JrgnlNtHsZrL"
      },
      "source": [
        "#Operators\n",
        "#Arithematic Operator\n",
        "#Assignemnt Operator\n",
        "#Comparison Operator\n",
        "#Logical Operator\n",
        "# Identity operator\n",
        "# Bitwise operator\n",
        "print(5+2)\n",
        "print(5-2)\n",
        "print(5*2)\n",
        "print(5/2)\n",
        "print(5//2)\n",
        "print(5**5) #raise to\n",
        "print(\"5 % 5\") #gives raminder\n",
        "# Assignent operator\n",
        "x = 5  # \"=\" is a assignment operator\n",
        "x +=7  # adds 7 in x \n",
        "print(x)\n",
        "x /=7 #divides number 7 in x\n",
        "#Logical operator\n",
        "A =True\n",
        "B=Flase\n",
        "print(a and b)\n",
        "print(a or b)\n",
        "print (a is not b)\n",
        "#Mathematical Operator\n",
        "#if elements in list are in condition then it will return True\n",
        "\n",
        "#BITWISE OPERATORS\n",
        "print(0 | 1) #zero or one"
      ],
      "execution_count": null,
      "outputs": []
    },
    {
      "cell_type": "code",
      "metadata": {
        "id": "D-w0sEHU1ToY"
      },
      "source": [
        "#one liner code\n",
        "#do it when code is short\n",
        "\n",
        "If a>b: print(\"example\") #condtion and print statement in one line"
      ],
      "execution_count": null,
      "outputs": []
    },
    {
      "cell_type": "code",
      "metadata": {
        "id": "0LG2blK4V23h"
      },
      "source": [
        "#Functions\n",
        "#Two types of functions Userdefined and built in functions \n",
        "#User defined\n",
        "\n",
        "def functions():\n",
        "  print(\"Hello how are you!\")\n",
        "\n",
        "print(functions())#returns none\n",
        "functions()   #prints only given statement \n",
        "##Using functions to take input\n",
        "\n",
        "def takeinput(a,b):\n",
        "  print(\"Hello you are taking input\", a+b)\n",
        "\n",
        "takeinput(5,8)\n",
        "\n",
        "def average(a,b):\n",
        "  avg = (a+b)/2\n",
        "  print(avg)\n",
        "\n",
        "average(334,445)\n",
        "#Using return to take value from variable\n",
        "\n",
        "def returns(a,b):\n",
        "  \"\"\"This function is to show return value\"\"\"\n",
        "  avgg=(a+b)/2\n",
        "  return avgg   #if there is no return print(v) will return none \n",
        "\n",
        "v=returns(112,111)\n",
        "print(v)\n",
        "\n",
        "#if we want to average on many numbers use functions made \n",
        "#we can calculate standard deviation also in ML to calculate f score probability  loggots\n",
        "\n",
        "#There are doc strings in functions \n",
        "\"\"\"This is a doc string\"\"\"\n",
        "print(returns.__doc__) #takes doc stream from functionfunctions and shows in output this helps in showing what that functions does\n"
      ],
      "execution_count": null,
      "outputs": []
    },
    {
      "cell_type": "code",
      "metadata": {
        "id": "t8MLw6JaLrQO"
      },
      "source": [
        "# Global Variables\n",
        "l=10 #This is a global variable govt. money for e.g\n",
        "def functionsss(n):\n",
        "  l=5  #our money for e.g  Also called local variable\n",
        "  m=8\n",
        "  print(n,\"this is me\")\n",
        "  print(l,m)\n",
        "\n",
        "# if variable outside doesn't get value from local it takes from global\n",
        "# if we wish to change local variable if its also a global variable then we use 'global'\n",
        "\n",
        "functionsss(\"hello\")\n",
        "print(l)\n",
        "#Global Keyword are global 'variablename'\n",
        "\n",
        "#Nested Functions\n",
        "#global varible will find here.. here\n",
        "x=99\n",
        "def name():\n",
        "  x = 20\n",
        "  def name2():\n",
        "    global x\n",
        "  x=88\n",
        "  print(\"before calling name()\",x)\n",
        "  name2()\n",
        "  print(\"before calling name2()\",x)\n",
        "  \n",
        "name()\n"
      ],
      "execution_count": null,
      "outputs": []
    },
    {
      "cell_type": "code",
      "metadata": {
        "id": "HqeIRBtKNWsR"
      },
      "source": [
        "#Recurssion means using function in fucntion\n",
        "def factorial(n):\n",
        "  #n!=n*n-1*n-2*n-2....1\n",
        "  # n!=n*(n-1)!\n",
        "  fac=1\n",
        "  for i in range(n):\n",
        "    fac = fac*(i+1)\n",
        "  return fac\n",
        "  pass\n",
        "numb=int(input(\"Enter a number\"))\n",
        "print(factorial(numb))\n",
        "\n",
        "#Recursive method\n",
        "def recursive(n):\n",
        "  if n==1:\n",
        "    return 1\n",
        "\n",
        "  else:\n",
        "    return n* recursive(n-1)\n",
        "numbs=int(input(\"Enter a number\"))\n",
        "print(recursive(numbs))\n",
        "# working\n",
        "# 5*recursive\n",
        "# 5*4*recursive\n",
        "# 5*4*3*recursive\n",
        "# 5*4*3*2*recursive\n",
        "# 5*4*3*2*1*recursive\n",
        "\n",
        "# Fibbonachi sequence\n",
        "# Find nth fibonachi sequence\n"
      ],
      "execution_count": null,
      "outputs": []
    },
    {
      "cell_type": "code",
      "metadata": {
        "id": "UyDYFIBZxKe7"
      },
      "source": [
        "#Lamba function or anynomous function \n",
        "def add(a,b):\n",
        "  return a+b\n",
        "minus=lamba x, y: x-y\n",
        "                        #both do sane thing\n",
        "def test(x,y):\n",
        "  return x-y\n",
        "\n",
        "print(add(9,4)\n",
        "\n"
      ],
      "execution_count": null,
      "outputs": []
    },
    {
      "cell_type": "code",
      "metadata": {
        "id": "YDQ0iVvtihtc"
      },
      "source": [
        "#Try and Except or Exception Handling\n",
        "q=int(input(\"Enter a number\"))\n",
        "a=input(\"Enter a number\")\n",
        "\n",
        "try:\n",
        "  print(\"the sum is\",q+a)\n",
        "except Exception as e:\n",
        "  print(e)\n",
        "\n",
        "print(\"this should print\")\n",
        "\n",
        "#It is used in internet connected things like downloading if net gets disconnected error msg should be shown not simply exit the code"
      ],
      "execution_count": null,
      "outputs": []
    },
    {
      "cell_type": "code",
      "metadata": {
        "id": "Zrw5UshF23IW"
      },
      "source": [
        "#File Reading\n",
        "# \"r\"=open file for reading  DEFAULT MODE\n",
        "# \"w\"= open file for writing\n",
        "# \"x\"= Creates file if not exists\n",
        "# \"a\"= Add more content to a file\n",
        "# \"t\" = text mode to deal data in file as string\n",
        "# 'b'=binary mode\n",
        "# \"+\" read write\n",
        "# \"r+\"-for both read and write\n",
        "# Always close a file we opened\n",
        "\n",
        "f=open(\"file.txt\", \"w\") #we can choose mode from here as w r a...\n",
        "content=f.read()\n",
        "content=f.write()\n",
        "as=write(\"Write what to add in file\")\n",
        "print(content)\n",
        "f.close()\n",
        "\n",
        "for line in f:\n",
        "  print(line)\n",
        "  #reads line in file using for loop\n",
        "\n",
        "# readline()- reads first line of file\n",
        "# readlines()- List of lines in file\n",
        "# f.tell()-Tells where our file pointer is\n",
        "# f.seek resets out file pointer and brings back to input e.g f.seek(10)\n",
        "# append-adds string to file\n",
        "\n",
        "# withblock\n",
        "with open(\"filename.txt\") as f: #does same work as f=open(\"filename.txt\")\n",
        "  #this also closes file so no need to close\n"
      ],
      "execution_count": null,
      "outputs": []
    },
    {
      "cell_type": "code",
      "metadata": {
        "id": "4nHWZRZCAAdm",
        "colab": {
          "base_uri": "https://localhost:8080/"
        },
        "outputId": "fae96522-f537-469b-d4e1-29bc6e613d6d"
      },
      "source": [
        "# Modules\n",
        "# if module not present install \"pip install module_name\" \n",
        "import random\n",
        "random_number=random.randint(0,1)\n",
        "rand=random.random()*100\n",
        "print(rand)\n",
        "\n",
        "lst=[\"star\",\"hello\",\"ajjtak\",\"cartoon\"]\n",
        "choices=random.choice(lst)\n",
        "print(choices)"
      ],
      "execution_count": null,
      "outputs": [
        {
          "output_type": "stream",
          "name": "stdout",
          "text": [
            "96.60174816756277\n",
            "cartoon\n"
          ]
        }
      ]
    },
    {
      "cell_type": "code",
      "metadata": {
        "colab": {
          "base_uri": "https://localhost:8080/"
        },
        "id": "PqOSI98wzCAq",
        "outputId": "be354c5d-201d-4471-e457-bf2b6f91241c"
      },
      "source": [
        "# F-strings & String formatting\n",
        "me=\"Atul\"\n",
        "a=\"This is %s\"%me #Takes string from me variable %s,%me(Name of variable) not good method\n",
        "print(a)\n",
        "import math\n",
        "hello =f\"this is {me} {23*4} {math.cos(43)}\"\n",
        "print(hello)"
      ],
      "execution_count": null,
      "outputs": [
        {
          "output_type": "stream",
          "name": "stdout",
          "text": [
            "This is Atul\n",
            "this is Atul 92 0.5551133015206257\n"
          ]
        }
      ]
    },
    {
      "cell_type": "code",
      "metadata": {
        "id": "pikBvP5Z1hIs"
      },
      "source": [
        "# *args and **kwargs\n",
        "# def function_name_print(a,b,c,d):\n",
        "#   print(a,b,c,d)\n",
        "\n",
        "# function_name_print(\"atul\",\"manthan\",\"bandar\",\"chatre\") #if we add new name(argument) it throws error\n",
        "\n",
        "def funargs(normal,*args):# we used*names to tell name variable to go in args , we can change name after *argsnoral or *mama\n",
        "  print(normal)\n",
        "  for item in args:\n",
        "    print(item)\n",
        "  # print(args[0])\n",
        "#By using args we can add more name in list and it wont throw error\n",
        "names=[\"atul\",\"manthan\",\"bandar\",\"chatre\",\"tanmay\",\"we can add more names\"] #this list goes in args as a tuple\n",
        "normal=\"Normal Argument\"\n",
        "funargs(normal, *names)\n",
        "#normal first then *args its a convention\n",
        "\n",
        "#**kwargs\n",
        "def funargss(normal,**kwargs):\n",
        "  for key, value in kwargs.items():\n",
        "    print(f\"{key} is a {value}\")\n",
        "kw={\"rotan\":\"pass\",\"road\":\"highway\"}\n",
        "funargss(normal,**kw)\n",
        "\n"
      ],
      "execution_count": null,
      "outputs": []
    },
    {
      "cell_type": "code",
      "metadata": {
        "id": "B9hxxDNR3yEo"
      },
      "source": [
        "#Time Module\n",
        "\n",
        "import time\n",
        "time.time()\n",
        "\n",
        "initial = time.time()\n",
        "finished=time.time()\n",
        "# initial - finieshed will give program finiesd in this much time\n",
        "localtime=time.asctime(time.localtime(time.time())) #time.time returns tikss\n",
        "time.sleep(5) #code sleeps for time taken as argument in time.sleep(\"5 for 5 sec\")\n",
        "print(localtime)\n"
      ],
      "execution_count": null,
      "outputs": []
    },
    {
      "cell_type": "code",
      "metadata": {
        "id": "P4IYy6Ip7eMl"
      },
      "source": [
        "# Virtual environment\n",
        "# why its needed, for big website or data analysis tool  \n",
        "# our program should not stop\n",
        "# pip install virtualenv\n",
        "# now we can make an env\n",
        "# we have to ad every library or module in env"
      ],
      "execution_count": null,
      "outputs": []
    },
    {
      "cell_type": "code",
      "metadata": {
        "id": "9WtZ_Uxq81MB"
      },
      "source": [
        "# Enumerate Function\n",
        "l1=[\"hello\",\"mewo\",\"lol\"]\n",
        "\n",
        "i=1\n",
        "for i in l1:\n",
        "  if 1%2 is not 0:\n",
        "    print(f\"jarvis pls buy {i}\")\n",
        "\n",
        "# to do this short\n",
        "\n",
        "for index, item in enumerate(l1):\n",
        "  if index%2==0:\n",
        "    print(f\"jarvis pls buy {item}\")"
      ],
      "execution_count": null,
      "outputs": []
    },
    {
      "cell_type": "code",
      "metadata": {
        "id": "jB7pCT0y9bLz"
      },
      "source": [
        "#how import works\n",
        "import pandas as pd\n",
        "# but from where is this module coming\n",
        "# gets assign to currnt scope\n",
        "# h=1 is a current scope\n",
        "print(pd.__version__)\n",
        "import sys\n",
        "print(sys.path)"
      ],
      "execution_count": null,
      "outputs": []
    },
    {
      "cell_type": "code",
      "metadata": {
        "id": "rwXanMGa-fxU"
      },
      "source": [
        "# if __name__ == __main__\n",
        "\n",
        "import sklearn\n",
        "def printhar(string):\n",
        "  return f\"ye string dedo{string}\"\n",
        "\n",
        "def add(num1,num2):\n",
        "  return num1+num2+5\n",
        "\n",
        "\n",
        "if __name__=='__main__': #Only main content will execcute it wont work in imported \n",
        "  print(printhar(\" Atul\"))\n",
        "  oo=add(4,6)\n",
        "  print(oo)\n",
        "#we can use this function as import filename we created means we can create our own module\n",
        "# when we use __main name it whole program will not run in other file where ti is imported\n",
        "# breakdown\n",
        "print(__name__)"
      ],
      "execution_count": null,
      "outputs": []
    },
    {
      "cell_type": "code",
      "metadata": {
        "id": "FsJVfmKKAmdn"
      },
      "source": [
        "# Join function\n",
        "lst=[\"hello\",\"fafaf\"]\n",
        "a=\",\".join(lst) #joins item at end of list like appending a list\n",
        "print(a,\"wwewe\")"
      ],
      "execution_count": null,
      "outputs": []
    },
    {
      "cell_type": "code",
      "metadata": {
        "id": "6uOykehTDWyx"
      },
      "source": [
        "# Map filter Redue\n",
        "numer=[\"3\",\"4\",\"6\"]\n",
        "for i in range(len(numer)):\n",
        "  numer[i]=int(numer[i])\n",
        "# numer[2]=numer+1 #to convert list item string into int\n",
        "# to do this in one line\n",
        "  print(i)\n",
        "numer=list(map(int,numer))  \n",
        "\n",
        "#from here MAP\n",
        "def sq(a):\n",
        "  return a*a\n",
        "num=[1,2,3,4,5,6]\n",
        "squ=list(map(sq,num))\n",
        "print(squ)\n",
        "\n",
        "def square(a):\n",
        "  return a*a\n",
        "\n",
        "def cube(a):\n",
        "  return a*a*a\n",
        "\n",
        "func=[square,cube]"
      ],
      "execution_count": null,
      "outputs": []
    },
    {
      "cell_type": "code",
      "metadata": {
        "id": "j7F6xJYKD0qQ"
      },
      "source": [
        "#FILTERS\n",
        "lists=[1,2,3,4,5,6,7,8,9]\n",
        "\n",
        "def is_greater_5(numbs):\n",
        "  return numbs>5 #will return true or false\n",
        "\n",
        "gt =list (filter(is_greater_5,lists))\n",
        "print(gt)"
      ],
      "execution_count": null,
      "outputs": []
    },
    {
      "cell_type": "code",
      "metadata": {
        "colab": {
          "base_uri": "https://localhost:8080/"
        },
        "id": "auBZk5_sTC3d",
        "outputId": "8b96b9be-95bf-4343-daf2-009685f34c0d"
      },
      "source": [
        "#Reduce\n",
        "from functools import reduce\n",
        "\n",
        "ls=[1,2,3,4]\n",
        "# to add 1+2 2+3 3+4\n",
        "\n",
        "num=reduce(lambda x,y:x+y,ls)\n",
        "print(num)"
      ],
      "execution_count": null,
      "outputs": [
        {
          "output_type": "stream",
          "name": "stdout",
          "text": [
            "10\n"
          ]
        }
      ]
    },
    {
      "cell_type": "code",
      "metadata": {
        "id": "q5i5sHS_UG29"
      },
      "source": [
        "# Decorators\n",
        "def func():\n",
        "  print(\"deco\")\n",
        "func2=func\n",
        "func2()\n",
        "\n",
        "def deck1(fubc1):\n",
        "  def nowexute():\n",
        "    print(\"doing\")\n",
        "    fubc1()\n",
        "    print(\"done\")\n",
        "  return nowexute\n",
        "# we can also use @deck1\n",
        "def what():\n",
        "  print(\"I MA god\")\n",
        "\n",
        "what=deck1(what)\n",
        "what()\n",
        "# its like a blueprint\n",
        "\n"
      ],
      "execution_count": null,
      "outputs": []
    },
    {
      "cell_type": "code",
      "metadata": {
        "id": "etXjZh69VK37",
        "colab": {
          "base_uri": "https://localhost:8080/"
        },
        "outputId": "c112b695-c9aa-46fd-dbb3-06eab3487c21"
      },
      "source": [
        "# Class Object oriented programming\n",
        "# classes-Template\n",
        "# object-instance of class also a organized way of programming\n",
        "# DRY-DO NOT REPEAT YOUR SELF\n",
        "# SAVE TIME USING OOP\n",
        "class student():\n",
        "  pass\n",
        "\n",
        "har=student()\n",
        "har.name=\"Atul\"\n",
        "lar=student()\n",
        "lar.section=34\n",
        "#both are different element both take different memory locatilocatinlocatins\n",
        "print(har.name,lar.section)\n",
        "\n",
        "#Class name always capital its a good practice\n",
        "\n",
        "# methods in class\n",
        "class doit:\n",
        "  def proacr(self): #self is a self vo object jiski baat ki ja rahi he\n",
        "    return f\"Name us {self.name} and salary {self.salary}\"\n",
        "\n",
        "# if we run method or function in self becomes \"har\":\n",
        "  def printdetails(self):\n",
        "    # we can acceses har by self\n",
        "    return f\"name is {self.name} \"\n",
        "  \n",
        "har=doit()\n",
        "rad=doit()\n",
        "\n",
        "har.name=\"hello\"\n",
        "har.salary=2343\n",
        "print(har.printdetails())\n",
        "print(har.proacr())\n"
      ],
      "execution_count": null,
      "outputs": [
        {
          "output_type": "stream",
          "name": "stdout",
          "text": [
            "Atul 34\n",
            "name is hello \n",
            "Name us hello and salary 2343\n"
          ]
        }
      ]
    },
    {
      "cell_type": "code",
      "metadata": {
        "id": "aHDIcUAU13pf"
      },
      "source": [
        "# Instances\n",
        "class kaam:\n",
        "  no_of_leaves=8 #to change class variable only kaam. can change it not other instances\n",
        "  pass\n",
        "\n",
        "\n",
        "har=kaam() #this is a instance\n",
        "mar=kaam() #this is a instance\n",
        "\n",
        "har.salar=\"harry\"\n",
        "\n",
        "print(har.no_of_leaves)\n",
        "print(har.no_of_leaves)\n",
        "\n"
      ],
      "execution_count": null,
      "outputs": []
    },
    {
      "cell_type": "code",
      "metadata": {
        "colab": {
          "base_uri": "https://localhost:8080/"
        },
        "id": "WrqbYye5o5gH",
        "outputId": "68737554-4945-4218-89e0-27c236096418"
      },
      "source": [
        "#Constructor gives argument to class\n",
        "class emplo:\n",
        "  def __init__(self,aname,asalary,arole): #self here is object being created\n",
        "    self.name = aname\n",
        "    self.salary=asalary\n",
        "    self.role=arole\n",
        "\n",
        "hrr=emplo(\"Atul\",434343,\"dev\")\n",
        "\n",
        "print(hrr.salary,hrr.name) #Argument goes to __init__"
      ],
      "execution_count": null,
      "outputs": [
        {
          "output_type": "stream",
          "name": "stdout",
          "text": [
            "434343 Atul\n"
          ]
        }
      ]
    },
    {
      "cell_type": "code",
      "metadata": {
        "id": "aNXiDFtZwNSr"
      },
      "source": [
        "# Class method\n",
        "class mrthods():\n",
        "  no_of_leaves=9\n",
        "\n",
        "  def __init__(self,aname,asalary,arole): #self here is object being created\n",
        "\n",
        "    self.name = aname\n",
        "    self.salary=asalary\n",
        "    self.role=arole\n",
        "\n",
        "  def printdetail(self):\n",
        "    return f\"{self.name},{self.salary}\"\n",
        "\n",
        "  @classmethod #DECORATROR\n",
        "  def change_leaves(cls,newleaves):\n",
        "    # cls is a class its instance is a object in class\n",
        "    cls.no_of_leaves = newleaves\n",
        "    #use of calssmethod is alternative classmetohd\n",
        "        \n"
      ],
      "execution_count": null,
      "outputs": []
    },
    {
      "cell_type": "code",
      "metadata": {
        "colab": {
          "base_uri": "https://localhost:8080/"
        },
        "id": "DZO4d42UxxPG",
        "outputId": "951e8898-587c-4c54-8c93-66cee0b5f038"
      },
      "source": [
        "#Constructor as alternative class method\n",
        "#\n",
        "# Class method\n",
        "class mrthods():\n",
        "  no_of_leaves=9\n",
        "\n",
        "  def __init__(self,aname,asalary,arole): #self here is object being created\n",
        "\n",
        "    self.name = aname\n",
        "    self.salary=asalary\n",
        "    self.role=arole\n",
        "\n",
        "  def printdetail(self):\n",
        "    return f\"{self.name},{self.salary}\"\n",
        "\n",
        "  @classmethod #DECORATROR\n",
        "  def change_leaves(cls,newleaves):\n",
        "    # cls is a class its instance is a object in class\n",
        "    cls.no_of_leaves = newleaves\n",
        "    #use of calssmethod is alternative classmetohd\n",
        "\n",
        "  @classmethod\n",
        "  def from_str(cls,string):\n",
        "    params= string.split(\"-\") #it will be a list and return a list #split will work where there are dash \"-\" it will split from there\n",
        "    return cls(params[0],params[1],params[2])#meaning mrthods\n",
        "\n",
        "atul=mrthods(\"Atul\",3343,\"devvs\")\n",
        "atuls=mrthods.from_str(\"Atul-43434-devvs\")#alternative Constructor\n",
        "print(atuls.salary)"
      ],
      "execution_count": null,
      "outputs": [
        {
          "output_type": "stream",
          "name": "stdout",
          "text": [
            "43434\n"
          ]
        }
      ]
    },
    {
      "cell_type": "code",
      "metadata": {
        "colab": {
          "base_uri": "https://localhost:8080/"
        },
        "id": "YkeWhJHQzRpU",
        "outputId": "9a7e9ae8-870c-4feb-8246-2224ea6ea9ee"
      },
      "source": [
        "#static methods\n",
        "#Constructor as alternative class method\n",
        "#\n",
        "# Class method\n",
        "class mrthods():\n",
        "  no_of_leaves=9\n",
        "\n",
        "  def __init__(self,aname,asalary,arole): #self here is object being created\n",
        "\n",
        "    self.name = aname\n",
        "    self.salary=asalary\n",
        "    self.role=arole\n",
        "\n",
        "  def printdetail(self):\n",
        "    return f\"{self.name},{self.salary}\"\n",
        "\n",
        "  @classmethod #DECORATROR\n",
        "  def change_leaves(cls,newleaves):\n",
        "    # cls is a class its instance is a object in class\n",
        "    cls.no_of_leaves = newleaves\n",
        "    #use of calssmethod is alternative classmetohd\n",
        "\n",
        "  @classmethod\n",
        "  def from_str(cls,string):\n",
        "    params= string.split(\"-\") #it will be a list and return a list #split will work where there are dash \"-\" it will split from there\n",
        "    return cls(params[0],params[1],params[2])#meaning mrthods\n",
        "\n",
        "#ataticmethod\n",
        "\n",
        "  @staticmethod\n",
        "  def print_good(string):\n",
        "    print(\"this is good\" + string)\n",
        "    return 89\n",
        "\n",
        "\n",
        "atul=mrthods(\"Atul\",3343,\"devvs\")\n",
        "atuls=mrthods.from_str(\"Atul-43434-devvs\")#alternative Constructor\n",
        "print(atuls.salary)\n",
        "atul.print_good(\" atul\") #for speed we use static\n",
        "#we can give nay input instead of atul\n"
      ],
      "execution_count": null,
      "outputs": [
        {
          "output_type": "stream",
          "name": "stdout",
          "text": [
            "43434\n",
            "this is goodatul\n"
          ]
        },
        {
          "output_type": "execute_result",
          "data": {
            "text/plain": [
              "89"
            ]
          },
          "metadata": {},
          "execution_count": 36
        }
      ]
    },
    {
      "cell_type": "code",
      "metadata": {
        "id": "irEZSrC_1_Ui"
      },
      "source": [
        "# Abstraction and Encapsulation\n",
        "# that “shows” only essential attributes and “hides” unnecessary information. The main purpose of abstraction is hiding the unnecessary details from the users\n",
        "# Encapsulation is defined as the wrapping up of data under a single unit. \n"
      ],
      "execution_count": null,
      "outputs": []
    },
    {
      "cell_type": "code",
      "metadata": {
        "colab": {
          "base_uri": "https://localhost:8080/"
        },
        "id": "vap8PgFf3uOO",
        "outputId": "5f7c7223-b7b7-497f-8651-e0b28fea618a"
      },
      "source": [
        "# Single inheritane\n",
        "class mrthods():\n",
        "  no_of_leaves=9\n",
        "\n",
        "  def __init__(self,aname,asalary,arole): #self here is object being created\n",
        "\n",
        "    self.name = aname\n",
        "    self.salary=asalary\n",
        "    self.role=arole\n",
        "\n",
        "  def printdetail(self):\n",
        "    return f\"{self.name},{self.salary}\"\n",
        "\n",
        "  @classmethod #DECORATROR\n",
        "  def change_leaves(cls,newleaves):\n",
        "    # cls is a class its instance is a object in class\n",
        "    cls.no_of_leaves = newleaves\n",
        "    #use of calssmethod is alternative classmetohd\n",
        "\n",
        "  @classmethod\n",
        "  def from_str(cls,string):\n",
        "    params= string.split(\"-\") #it will be a list and return a list #split will work where there are dash \"-\" it will split from there\n",
        "    return cls(params[0],params[1],params[2])#meaning mrthods\n",
        "\n",
        "#ataticmethod\n",
        "\n",
        "  @staticmethod\n",
        "  def print_good(string):\n",
        "    print(\"this is good\" + string)\n",
        "    return 89\n",
        "  \n",
        "class prgrammer(mrthods): #mrthods class ke sare gun yis class me aagaye\n",
        "    def __init__(self,aname,asalary,arole,languages):\n",
        "      self.name = aname\n",
        "      self.salary=asalary\n",
        "      self.role=arole\n",
        "      self.language=languages\n",
        "    def printprog(self):\n",
        "      return f\"programmer is {self.name}\"\n",
        "    pass\n",
        "\n",
        "m = mrthods(\"har\",3434,\"dev\")\n",
        "s= prgrammer(\"shubh\",43535,\"dev\",\"R\")\n",
        "l= prgrammer(\"karan\",\"python\",\"c++\",\"R\")\n",
        "print(l.printprog())\n"
      ],
      "execution_count": null,
      "outputs": [
        {
          "output_type": "stream",
          "name": "stdout",
          "text": [
            "programmer is karan\n"
          ]
        }
      ]
    },
    {
      "cell_type": "code",
      "metadata": {
        "id": "VnZatZqI6Vsf"
      },
      "source": [
        "#Multiple Inheritance\n",
        "class mrthods():\n",
        "  no_of_leaves=9\n",
        "\n",
        "  def __init__(self,aname,asalary,arole): #self here is object being created\n",
        "\n",
        "    self.name = aname\n",
        "    self.salary=asalary\n",
        "    self.role=arole\n",
        "\n",
        "  def printdetail(self):\n",
        "    return f\"{self.name},{self.salary}\"\n",
        "\n",
        "  @classmethod #DECORATROR\n",
        "  def change_leaves(cls,newleaves):\n",
        "    # cls is a class its instance is a object in class\n",
        "    cls.no_of_leaves = newleaves\n",
        "    #use of calssmethod is alternative classmetohd\n",
        "\n",
        "  @classmethod\n",
        "  def from_str(cls,string):\n",
        "    params= string.split(\"-\") #it will be a list and return a list #split will work where there are dash \"-\" it will split from there\n",
        "    return cls(params[0],params[1],params[2])#meaning mrthods\n",
        "\n",
        "#ataticmethod\n",
        "\n",
        "  @staticmethod\n",
        "  def print_good(string):\n",
        "    print(\"this is good\" + string)\n",
        "    return 89\n",
        "\n",
        "#MULTI\n",
        "\n",
        "class player:\n",
        "  no_of_games= 4\n",
        "  def __init__(self,name,game):\n",
        "    self.name = name\n",
        "    self.game = game\n",
        "\n",
        "  def printgame(self):\n",
        "    return f\"Name is {self.name} game is {self.game}\"\n",
        "\n",
        "class coolprogrammer(mrthods,player):\n",
        "  pass\n",
        "\n",
        "shubham =player(\"shubham\",[\"cricket\"])\n",
        "lara = coolprogrammer(\"lara\",8999,\"coolboy\")\n"
      ],
      "execution_count": null,
      "outputs": []
    },
    {
      "cell_type": "code",
      "metadata": {
        "colab": {
          "base_uri": "https://localhost:8080/"
        },
        "id": "rxLi9YJY9i5T",
        "outputId": "289a1c76-bd86-4c2e-947a-33bf8eeba9e4"
      },
      "source": [
        "#multilvel inheritance\n",
        "class dad:\n",
        "  basketball=1\n",
        "\n",
        "class son(dad):\n",
        "  dance=1\n",
        "  def isdance(self):\n",
        "    return f\"Yes i dance {self.dance} no of time\"\n",
        "\n",
        "class Grandson(son):\n",
        "  dance=6\n",
        "  def isdance(self):\n",
        "    return f\"jaclspn yeahh\" \\\n",
        "    f\" Yes i can dance good{self.dance} no of times\"\n",
        "  \n",
        "darry=dad()\n",
        "larry=son()\n",
        "mow=Grandson()\n",
        "\n",
        "print(mow.isdance())\n",
        "\n",
        "\n",
        "\n"
      ],
      "execution_count": null,
      "outputs": [
        {
          "output_type": "stream",
          "name": "stdout",
          "text": [
            "jaclspn yeahh Yes i can dance good6 no of times\n"
          ]
        }
      ]
    },
    {
      "cell_type": "code",
      "metadata": {
        "id": "_OwPEyZzBGQM"
      },
      "source": [
        "# public private & protected Access specifier\n",
        "# protected base class can use and also drived class no outside program can use it\n",
        "class mrthods():\n",
        "  no_of_leaves=9\n",
        "  var=5\n",
        "  _protec = 9 #this how we write protected\n",
        "  __private=5\n",
        "  def __init__(self,aname,asalary,arole): #self here is object being created\n",
        "\n",
        "    self.name = aname\n",
        "    self.salary=asalary\n",
        "    self.role=arole\n",
        "\n",
        "  def printdetail(self):\n",
        "    return f\"{self.name},{self.salary}\"\n",
        "\n",
        "  @classmethod #DECORATROR\n",
        "  def change_leaves(cls,newleaves):\n",
        "    # cls is a class its instance is a object in class\n",
        "    cls.no_of_leaves = newleaves\n",
        "    #use of calssmethod is alternative classmetohd\n",
        "\n",
        "  @classmethod\n",
        "  def from_str(cls,string):\n",
        "    params= string.split(\"-\") #it will be a list and return a list #split will work where there are dash \"-\" it will split from there\n",
        "    return cls(params[0],params[1],params[2])#meaning mrthods\n",
        "    # namemangiling"
      ],
      "execution_count": null,
      "outputs": []
    },
    {
      "cell_type": "code",
      "metadata": {
        "id": "oSGiueUlGRTv"
      },
      "source": [
        "# Polymorphism means Ability to take various forms\n",
        "\n",
        "print(5+6)\n",
        "print(\"5\"+\"6\")\n",
        "# two string opbject and two int\n",
        "# peter parker tha fir spiderman hogaya"
      ],
      "execution_count": null,
      "outputs": []
    },
    {
      "cell_type": "code",
      "metadata": {
        "colab": {
          "base_uri": "https://localhost:8080/"
        },
        "id": "u_XZCxI_G1nX",
        "outputId": "67ebf03e-01e6-47ca-d3df-b6a30d488cec"
      },
      "source": [
        "# super() overrding()\n",
        "class A:\n",
        "  classcvar1=\"I am a varible of class A\"\n",
        "  def __init__(self):\n",
        "    self.var1=\"i am in class A's Constructor\"\n",
        "  \n",
        "class B(A):\n",
        "  classvar2=\"i am in variale of class B\"\n",
        "  \n",
        "a=A()\n",
        "b=B()\n",
        "print(b.classcvar1)\n",
        "\n",
        "#"
      ],
      "execution_count": null,
      "outputs": [
        {
          "output_type": "stream",
          "name": "stdout",
          "text": [
            "I am a varible of class A\n"
          ]
        }
      ]
    },
    {
      "cell_type": "code",
      "metadata": {
        "id": "zgAavBMbIrKs"
      },
      "source": [
        "#Diamond Shape problem\n",
        "#Confusion problem occurs above 5 multilevel classes\n",
        "#java don't allow multiple inheritance\n",
        "# We avoid multiple inheritace"
      ],
      "execution_count": null,
      "outputs": []
    },
    {
      "cell_type": "code",
      "metadata": {
        "colab": {
          "base_uri": "https://localhost:8080/"
        },
        "id": "U_B0IQZIbArx",
        "outputId": "d6e9308a-7857-4cbc-923d-b35ed6533bc4"
      },
      "source": [
        "# operator overloading and dunder methods\n",
        "#dunder is a constructor\n",
        "class mrthods():\n",
        "  no_of_leaves=9\n",
        "  var=5\n",
        "  _protec = 9 #this how we write protected\n",
        "  __private=5\n",
        "  def __init__(self,aname,asalary,arole): #self here is object being created\n",
        "\n",
        "    self.name = aname\n",
        "    self.salary=asalary\n",
        "    self.role=arole\n",
        "\n",
        "  def printdetail(self):\n",
        "    return f\"{self.name},{self.salary}\"\n",
        "\n",
        "  @classmethod #DECORATROR\n",
        "  def change_leaves(cls,newleaves):\n",
        "    # cls is a class its instance is a object in class\n",
        "    cls.no_of_leaves = newleaves\n",
        "    #use of calssmethod is alternative classmetohd\n",
        "\n",
        "  def __add__(self,other): #Dunder add operator overloading\n",
        "    return self.salary +other.salary\n",
        "  \n",
        "  def __truediv__(self,other):\n",
        "    return self.salary / other.salary\n",
        "\n",
        "  def __repr(self):\n",
        "    return f\"Emplo {self.name},{self.salary}, {self.role}\"\n",
        "\n",
        "  def __str__(self):\n",
        "    return f\"Emplo {self.name},{self.salary}, {self.role}\"\n",
        "emp1=mrthods(\"atul\",800000,\"pydev\")\n",
        "emp2=mrthods(\"manthan\",800000,\"javadev\")\n",
        "print(emp1 + emp2) #this will not execute without operator overloading\n",
        "\n",
        "# look at Mapping operator to Function"
      ],
      "execution_count": null,
      "outputs": [
        {
          "output_type": "stream",
          "name": "stdout",
          "text": [
            "1600000\n"
          ]
        }
      ]
    },
    {
      "cell_type": "code",
      "metadata": {
        "colab": {
          "base_uri": "https://localhost:8080/"
        },
        "id": "SqC3TAQHcF6R",
        "outputId": "98068806-b23f-4af1-e2fd-25ee4b30d5ab"
      },
      "source": [
        "# Abstract Base class\n",
        "from abc import ABCMeta, abstractmethod\n",
        "class shape(metaclass=ABCMeta):\n",
        "  @abstractmethod\n",
        "  def printareas(self):\n",
        "    return 0\n",
        "\n",
        "class Rectangle:\n",
        "  type = \"rectangle\"\n",
        "  sides = 4\n",
        "\n",
        "  def __init__(self):\n",
        "    self.length=5\n",
        "    self.breath=4\n",
        "\n",
        "  def printarea(self):\n",
        "    return self.length * self.breath\n",
        "\n",
        "rect1=Rectangle() #write class name with a variable\n",
        "print(rect1.printarea()) #write variable.methodname\n"
      ],
      "execution_count": null,
      "outputs": [
        {
          "output_type": "stream",
          "name": "stdout",
          "text": [
            "20\n"
          ]
        }
      ]
    },
    {
      "cell_type": "code",
      "metadata": {
        "colab": {
          "base_uri": "https://localhost:8080/"
        },
        "id": "sRCSi7sdeUe7",
        "outputId": "15615168-93ab-4f5c-d6f9-1252e3354ad7"
      },
      "source": [
        "# Setters and Property Decorators \n",
        "# INCOMPLETE\n",
        "class Emp:\n",
        "  def __init__(self,fname,lname):\n",
        "    self.fname=fname\n",
        "    self.lname=lname\n",
        "    self.email= f\"{self.fname}.{lname}@icloud.com \"\n",
        "\n",
        "  def explain(self):\n",
        "    return f\"this is emp is {self.fname} {self.lname}\"\n",
        "  @property #decorator  \n",
        "  def printemail(self):\n",
        "    pass\n",
        "\n",
        "hind=Emp(\"hinds\",\"sppurt\")\n",
        "lala=Emp(\"hahahs\",\"asda\")\n",
        "\n",
        "print(hind.email) #self method used here self.email it tool fname and lname and added fstring dont init with \"()\" dont email() only email\n",
        "print(lala.explain()) #don't forget about self write self.name self.lname not just name lname\n",
        "\n",
        "print(hind.email)\n",
        "hind.fname=\"US\"\n",
        "print(hind.email)\n"
      ],
      "execution_count": null,
      "outputs": [
        {
          "output_type": "stream",
          "name": "stdout",
          "text": [
            "hinds.sppurt@icloud.com \n",
            "this is emp is hahahs asda\n",
            "hinds.sppurt@icloud.com \n",
            "hinds.sppurt@icloud.com \n"
          ]
        }
      ]
    },
    {
      "cell_type": "code",
      "metadata": {
        "id": "CeDEy8HdhQhI"
      },
      "source": [
        "# Object Introspection"
      ],
      "execution_count": null,
      "outputs": []
    },
    {
      "cell_type": "code",
      "metadata": {
        "id": "xtDrW-fVoKe5"
      },
      "source": [
        "#Generator\n",
        "# iterable - object where __iter__ or __getitem__ it defines iterator will generate iterator\n",
        "# iterator is py objectt where __next()__ \n",
        "# Generator are type of generator which can only iter one time\n",
        "\n",
        "def gen(n):\n",
        "  for i in range(n):\n",
        "    yield i #return fucntion ki return value, print prints on conseole,yeild will generate value on the fly and its a generator\n",
        "\n",
        "g=gen(5)\n",
        "print(g)\n",
        "print(g.__next__())\n",
        "print(g.__next__())\n",
        "print(g.__next__())\n",
        "\n",
        "h=\"Atul\"\n",
        "\n",
        "\n",
        "for item in h:\n",
        "  print(item)\n"
      ],
      "execution_count": null,
      "outputs": []
    },
    {
      "cell_type": "code",
      "metadata": {
        "colab": {
          "base_uri": "https://localhost:8080/"
        },
        "id": "vPb9_WTqpjN0",
        "outputId": "13f98f39-ad68-4f51-9786-b4ac6836a5b5"
      },
      "source": [
        "# python Comphrehensions\n",
        "ls=[]\n",
        "for i in range(100):\n",
        "  if i%3==0:\n",
        "    ls.append(i)\n",
        "print(ls)\n",
        "#oneliner using list comprehension\n",
        "\n",
        "lt=[i for i in range(100) if i%3==0]\n",
        "print(lt)\n",
        "\n",
        "#dictionary compreheniom\n",
        "# {0:\"item 0\",1:\"item1\"}\n",
        "dict1={\n",
        "    i:f\" Item {i}\" for i in range(5)\n",
        "}\n",
        "print(dict1)\n",
        "\n",
        "#reverse dictionary\n",
        "dict1={value:key for key,value in dict1.items()}\n",
        "print(dict1)\n",
        "\n",
        "#set comprehension\n",
        "Dresses={dress for dress in [\"dress1\",\"dress2\",\"dress1\"]} #it will print only one string if there same string\n",
        "print(Dresses)\n",
        "\n",
        "#Generator comprehesnion\n",
        "evens= (ir for ir in range(100) if i%2==0)\n",
        "print(type(evens))\n",
        "print(evens)\n",
        "for item in evens:\n",
        "  print(item)"
      ],
      "execution_count": null,
      "outputs": [
        {
          "output_type": "stream",
          "name": "stdout",
          "text": [
            "[0, 3, 6, 9, 12, 15, 18, 21, 24, 27, 30, 33, 36, 39, 42, 45, 48, 51, 54, 57, 60, 63, 66, 69, 72, 75, 78, 81, 84, 87, 90, 93, 96, 99]\n",
            "[0, 3, 6, 9, 12, 15, 18, 21, 24, 27, 30, 33, 36, 39, 42, 45, 48, 51, 54, 57, 60, 63, 66, 69, 72, 75, 78, 81, 84, 87, 90, 93, 96, 99]\n",
            "{0: ' Item 0', 1: ' Item 1', 2: ' Item 2', 3: ' Item 3', 4: ' Item 4'}\n",
            "{' Item 0': 0, ' Item 1': 1, ' Item 2': 2, ' Item 3': 3, ' Item 4': 4}\n",
            "{'dress1', 'dress2'}\n",
            "<class 'generator'>\n",
            "<generator object <genexpr> at 0x7f5652495750>\n"
          ]
        }
      ]
    },
    {
      "cell_type": "code",
      "metadata": {
        "colab": {
          "base_uri": "https://localhost:8080/"
        },
        "id": "-s4IbfsgrbKB",
        "outputId": "a1f0ed03-3126-47e8-d2cb-12ee98df927d"
      },
      "source": [
        "#  Else with for loop\n",
        "khana=[\"roti\",\"rada\",\"afafa\"]\n",
        "\n",
        "for item in khana:\n",
        "  if item==\"rotis\":\n",
        "    print(\"We serve your oder here\")\n",
        "    break #else only come in work after end of for loop if we use break iteration stops\n",
        "else:\n",
        "  print(\"this for loop ended properly and item was not found\")\n"
      ],
      "execution_count": null,
      "outputs": [
        {
          "output_type": "stream",
          "name": "stdout",
          "text": [
            "this for loop ended properly and item was not found\n"
          ]
        }
      ]
    },
    {
      "cell_type": "code",
      "metadata": {
        "id": "FlZfIv8Nvjk0"
      },
      "source": [
        "# Function Caching in python\n",
        "# there is  funciotn which work take 10sec\n",
        "from functools import  lru_cache\n",
        "import time\n",
        "\n",
        "@lru_cache(maxsize=3)\n",
        "def some_work(n):\n",
        "  time.sleep(n)#task taking some time\n",
        "  return n\n",
        "\n",
        "if __name__=='__main__':\n",
        "  print(\"mow running some work\")\n",
        "  some_work(3)\n",
        "  print(\"done...calling again\")\n",
        "  some_work(3)\n",
        "  print(\"called again\")\n",
        "# cache=if we accses a webpage comp saves in our computer and images are saved as cache to save to show youtube thumbnails\n",
        "\n"
      ],
      "execution_count": null,
      "outputs": []
    },
    {
      "cell_type": "code",
      "metadata": {
        "id": "bDhmcsObxSau"
      },
      "source": [
        " #Else and Finally\n",
        "\n",
        " try:\n",
        "   f=open(\"hello.txt\")\n",
        "\n",
        "except Exception as e:\n",
        "  print(e)\n",
        "\n",
        "finally: #used for code cleanup\n",
        "  print(\"this will run anyway\")\n",
        "print(\"important stuff\")"
      ],
      "execution_count": null,
      "outputs": []
    },
    {
      "cell_type": "code",
      "metadata": {
        "colab": {
          "base_uri": "https://localhost:8080/"
        },
        "id": "mhQ2TDwpHXYQ",
        "outputId": "24bc91a7-ec95-4e82-fed4-ab6d1b41f208"
      },
      "source": [
        "# Coroutines\n",
        "\n",
        "def searcher(): #now this function is a corutune now\n",
        "  import time\n",
        "  book=\"book on discovery of ancient egyptionas\"\n",
        "  time.sleep(4)\n",
        "\n",
        "  while True:\n",
        "    text=(yield) #value ko on the fly generate krdo\n",
        "    if text in book:\n",
        "      print(\"your text in book\")\n",
        "    else:\n",
        "      print(\"text is not in the book\")\n",
        "\n",
        "search = searcher()\n",
        "next(search)\n",
        "search.send(\"text\")\n",
        "input(\"press any key\")\n",
        "search.send(\"of\")"
      ],
      "execution_count": 8,
      "outputs": [
        {
          "output_type": "stream",
          "name": "stdout",
          "text": [
            "text is not in the book\n",
            "press any key\n",
            "your text in book\n"
          ]
        }
      ]
    },
    {
      "cell_type": "code",
      "metadata": {
        "id": "9BV8mUQEJgL8"
      },
      "source": [
        "# OS MODULE operating system\n",
        "import os\n",
        "# print(dir(os))\n",
        "print(os.getcwd())\n",
        "# os.mkdir(\"filename\") makes new file\n",
        "#os.rename\n",
        "#os.join()\n",
        "# os.path.join()\n"
      ],
      "execution_count": null,
      "outputs": []
    },
    {
      "cell_type": "code",
      "metadata": {
        "id": "SUoUtxRQKgNF"
      },
      "source": [
        "# Request Module\n",
        "import requests\n",
        "r = requests.get(\"url\")\n",
        "print(r.text)\n",
        "utl=\"www.something.com\"\n",
        "data={\n",
        "    \"p1\":4,\n",
        "    \"p2\":5\n",
        "}\n",
        "r2= request.post(url=url, data=data) #doing this we get a response\n",
        "print(statuscode) #google it\n"
      ],
      "execution_count": null,
      "outputs": []
    },
    {
      "cell_type": "code",
      "metadata": {
        "colab": {
          "base_uri": "https://localhost:8080/"
        },
        "id": "LyKzI7EFPRXO",
        "outputId": "4f6f8a0c-c76f-4599-fdfd-933c33ac0c58"
      },
      "source": [
        "# json module\n",
        "# java script object notation\n",
        "# we take data give data in browser\n",
        "import json\n",
        "data ='{\"var1\":\"lala\",\"var2\":\"haha\"}'\n",
        "parsed = json.loads(data)\n",
        "print(parsed['var1']) #key value access\n",
        "# Json.load() kisi bhi file object ko as an argument leta hai jabki\n",
        "# json.loads kisi bhi string ko as an argument leta hai..\n",
        "\n",
        "data2={\n",
        "    \"chaneel\":\"hellowolr\",\n",
        "    \"car\":[\"bmw\",\"audi\"],\n",
        "    \"fridge\":\"alo\"\n",
        "}\n",
        "jscomp = json.dumps(data2)\n",
        "print(jscomp)\n",
        "\n",
        "# sort_keys parameter data k key: value pairs ko sort krne ke kam ata hai\n"
      ],
      "execution_count": 15,
      "outputs": [
        {
          "output_type": "stream",
          "name": "stdout",
          "text": [
            "lala\n",
            "{\"chaneel\": \"hellowolr\", \"car\": [\"bmw\", \"audi\"], \"fridge\": \"alo\"}\n"
          ]
        }
      ]
    },
    {
      "cell_type": "code",
      "metadata": {
        "id": "ainEiJ2sPtrx"
      },
      "source": [
        "# Pickle Module\n",
        "import pickle\n",
        "\n",
        "cars=[\"audi\",\"bmw\",\"NANO\"] #to pickleand put it in a file\n",
        "file = \"mycar.pkl\"\n",
        "fileobj-open(file,'wb')\n",
        "\n",
        "pickle.dump(cars, fileobj) \n",
        "\n",
        "fileobj.close()\n",
        "\n",
        "to read file\n",
        "\n",
        "# pickle.load(fileobje filename)\n"
      ],
      "execution_count": null,
      "outputs": []
    },
    {
      "cell_type": "code",
      "metadata": {
        "id": "43uQC5CmRoh-"
      },
      "source": [
        "# Regular Expression\n",
        "# findall,search,split,sub,finditer\n",
        "# findall =specific string matches ko return krta he\n",
        "# search match object ko return krta he\n",
        "# split list return krta he two list\n",
        "# findall: It finds all searches for matches and prints resultant in the form of a list.\n",
        "# search: It works the same as a findall, but the resultant is a matched object if any is found.\n",
        "# split: The split function splits the string from every matched into two new strings.\n",
        "# sub: The sub-function works exactly like a replace function in notepad or MS Word. It replaces the original word with a word of our choice.\n",
        "# finditer: The finditer yields an iterator as a resultant with all the objects that match the one we sent it) finditer supports more attributes than any other function defined above. It also provides more details related to the matched object. So, most of the examples we are going to see next will contain a finditer function in them.\n",
        "import re\n",
        "mystr = '''Tata Limited\n",
        "Dr. David Landsman, executive director\n",
        "18, Grosvenor Place\n",
        "London SW1X 7HSc\n",
        "Phone: +44 (20) 7235 8281\n",
        "Fax: +44 (20) 7235 8727\n",
        "Email: tata@tata.co.uk\n",
        "Website: www.europe.tata.com\n",
        "Directions: View map\n",
        "\n",
        "Tata Sons, North America\n",
        "1700 North Moore St, Suite 1520\n",
        "Arlington, VA 22209-1911\n",
        "USA\n",
        "Phone: +1 (703) 243 9787\n",
        "Fax: +1 (703) 243 9791\n",
        "66-66\n",
        "455-4545\n",
        "Email: northamerica@tata.com \n",
        "Website: www.northamerica.tata.com\n",
        "Directions: View map fass\n",
        "harry bhai lekin\n",
        "bahut hi badia aadmi haiaiinaiiiiiiiiiiii'''\n",
        "\n",
        "# findall, search, split, sub, finditer\n",
        "# patt = re.compile(r'fass')\n",
        "# patt = re.compile(r'.adm')\n",
        "# patt = re.compile(r'^Tata')\n",
        "# patt = re.compile(r'iin$')\n",
        "# patt = re.compile(r'ai{2}')\n",
        "# patt = re.compile(r'(ai){1}')\n",
        "# patt = re.compile(r'ai{1}|Fax')\n",
        "\n",
        "\n",
        "# Special Sequences\n",
        "# patt = re.compile(r'Fax\\b')\n",
        "# patt = re.compile(r'27\\b')\n",
        "patt = re.compile(r'\\d{5}-\\d{4}')\n",
        "# Task\n",
        "# Given a string with a lot of indian phone numbers starting from +91\n",
        "\n",
        "matches = patt.finditer(mystr)\n",
        "for match in matches:\n",
        "    print(match)\n",
        "\n",
        "Meta Characters\n",
        "[] A set of characters\n",
        "\\ Signals a special sequence (can also be used to escape special characters)\n",
        ". Any character (except newline character)\n",
        "^ Starts with\n",
        "$ Ends with\n",
        "* Zero or more occurrences\n",
        "+ One or more occurrences\n",
        "{} Exactly the specified number of occurrences\n",
        "| Either or\n",
        "() Capture and group\n",
        "Special Sequences\n",
        "\\A Returns a match if the specified characters are at the beginning of the string\n",
        "\\b Returns a match where the specified characters are at the beginning or at the end of a word r” ain\\b.”\n",
        "\\B Returns a match where the specified characters are present, but NOT at the beginning (or at the end) of a word\n",
        "\n",
        "\\d Returns a match where the string contains digits (numbers from 0-9)\n",
        "\\D Returns a match where the string DOES NOT contain digits\n",
        "\\s Returns a match where the string contains a white space character\n",
        "\\S Returns a match where the string DOES NOT contain a white space character\n",
        "\\w Returns a match where the string contains any word characters (characters from a to Z, digits from 0-9, and the underscore _ character)\n",
        "\\W Returns a match where the string DOES NOT contain any word characters\n",
        "\\Z Returns a match if the specified characters are at the end of the string\n",
        "\"https://www.codewithharry.com/videos/python-tutorials-for-absolute-beginners-86\""
      ],
      "execution_count": null,
      "outputs": []
    },
    {
      "cell_type": "code",
      "metadata": {
        "id": "al59HXUDTBRG"
      },
      "source": [
        "# raise\n",
        "a=input(\"what is your name\")\n",
        "b=int(input(\"how much do you earn\"))\n",
        "\n",
        "if b==0:\n",
        "  raise ZeroDivisionError(\"b is 0 so stoppping\")\n",
        "if a.isnumeric():\n",
        "  raise Exception(\"numbers are not allow\")\n",
        "print(f\"hello {a}\")\n",
        "  \n",
        "# 100 lines taking 1hr\n",
        "\n",
        "\n"
      ],
      "execution_count": null,
      "outputs": []
    },
    {
      "cell_type": "code",
      "metadata": {
        "id": "h6MEheKUUM24"
      },
      "source": [
        "# diffrence between is and ==\n",
        "# ==   value equality two object have same value\n",
        "# is   reference equality two references refer to same object"
      ],
      "execution_count": null,
      "outputs": []
    }
  ]
}